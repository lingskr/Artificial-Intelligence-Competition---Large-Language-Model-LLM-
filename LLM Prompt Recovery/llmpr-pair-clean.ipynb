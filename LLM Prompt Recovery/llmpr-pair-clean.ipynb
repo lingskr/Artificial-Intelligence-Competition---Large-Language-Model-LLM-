{
 "cells": [
  {
   "cell_type": "code",
   "execution_count": 1,
   "id": "7fd8a14a",
   "metadata": {
    "_cell_guid": "b1076dfc-b9ad-4769-8c92-a6c4dae69d19",
    "_uuid": "8f2839f25d086af736a60e9eeb907d3b93b6e0e5",
    "execution": {
     "iopub.execute_input": "2024-04-06T09:35:19.466344Z",
     "iopub.status.busy": "2024-04-06T09:35:19.465920Z",
     "iopub.status.idle": "2024-04-06T09:35:20.539138Z",
     "shell.execute_reply": "2024-04-06T09:35:20.538072Z"
    },
    "papermill": {
     "duration": 1.085091,
     "end_time": "2024-04-06T09:35:20.541631",
     "exception": false,
     "start_time": "2024-04-06T09:35:19.456540",
     "status": "completed"
    },
    "tags": []
   },
   "outputs": [],
   "source": [
    "import numpy as np # linear algebra\n",
    "import pandas as pd # data processing, CSV file I/O (e.g. pd.read_csv)\n",
    "from tqdm.auto import tqdm\n",
    "import glob"
   ]
  },
  {
   "cell_type": "code",
   "execution_count": 2,
   "id": "ba5e7ec4",
   "metadata": {
    "execution": {
     "iopub.execute_input": "2024-04-06T09:35:20.559552Z",
     "iopub.status.busy": "2024-04-06T09:35:20.558281Z",
     "iopub.status.idle": "2024-04-06T09:35:30.462397Z",
     "shell.execute_reply": "2024-04-06T09:35:30.461374Z"
    },
    "papermill": {
     "duration": 9.915906,
     "end_time": "2024-04-06T09:35:30.465263",
     "exception": false,
     "start_time": "2024-04-06T09:35:20.549357",
     "status": "completed"
    },
    "tags": []
   },
   "outputs": [],
   "source": [
    "data = []\n",
    "for path in sorted(glob.glob('/kaggle/input/llmpr-pair/ot_and_rp_and_rt_*.parquet')):\n",
    "    df = pd.read_parquet(path)\n",
    "    data.append(df)"
   ]
  },
  {
   "cell_type": "code",
   "execution_count": 3,
   "id": "59e211c0",
   "metadata": {
    "execution": {
     "iopub.execute_input": "2024-04-06T09:35:30.482746Z",
     "iopub.status.busy": "2024-04-06T09:35:30.482376Z",
     "iopub.status.idle": "2024-04-06T09:35:30.552952Z",
     "shell.execute_reply": "2024-04-06T09:35:30.551373Z"
    },
    "papermill": {
     "duration": 0.082403,
     "end_time": "2024-04-06T09:35:30.555729",
     "exception": false,
     "start_time": "2024-04-06T09:35:30.473326",
     "status": "completed"
    },
    "tags": []
   },
   "outputs": [],
   "source": [
    "data = pd.concat(data, ignore_index=True)"
   ]
  },
  {
   "cell_type": "code",
   "execution_count": 4,
   "id": "3fc74d43",
   "metadata": {
    "execution": {
     "iopub.execute_input": "2024-04-06T09:35:30.573455Z",
     "iopub.status.busy": "2024-04-06T09:35:30.573030Z",
     "iopub.status.idle": "2024-04-06T09:35:34.522843Z",
     "shell.execute_reply": "2024-04-06T09:35:34.521744Z"
    },
    "papermill": {
     "duration": 3.961085,
     "end_time": "2024-04-06T09:35:34.525333",
     "exception": false,
     "start_time": "2024-04-06T09:35:30.564248",
     "status": "completed"
    },
    "tags": []
   },
   "outputs": [],
   "source": [
    "data2 = []\n",
    "for path in sorted(glob.glob('/kaggle/input/llmpr-pair/1*.csv')):\n",
    "    df = pd.read_csv(path)\n",
    "    data2.append(df)"
   ]
  },
  {
   "cell_type": "code",
   "execution_count": 5,
   "id": "bba84f01",
   "metadata": {
    "execution": {
     "iopub.execute_input": "2024-04-06T09:35:34.541930Z",
     "iopub.status.busy": "2024-04-06T09:35:34.541536Z",
     "iopub.status.idle": "2024-04-06T09:35:34.553443Z",
     "shell.execute_reply": "2024-04-06T09:35:34.552476Z"
    },
    "papermill": {
     "duration": 0.023092,
     "end_time": "2024-04-06T09:35:34.556017",
     "exception": false,
     "start_time": "2024-04-06T09:35:34.532925",
     "status": "completed"
    },
    "tags": []
   },
   "outputs": [],
   "source": [
    "data2 = pd.concat(data2, ignore_index=True)"
   ]
  },
  {
   "cell_type": "code",
   "execution_count": 6,
   "id": "4fc9d923",
   "metadata": {
    "execution": {
     "iopub.execute_input": "2024-04-06T09:35:34.572600Z",
     "iopub.status.busy": "2024-04-06T09:35:34.572234Z",
     "iopub.status.idle": "2024-04-06T09:35:34.590177Z",
     "shell.execute_reply": "2024-04-06T09:35:34.589234Z"
    },
    "papermill": {
     "duration": 0.029141,
     "end_time": "2024-04-06T09:35:34.592747",
     "exception": false,
     "start_time": "2024-04-06T09:35:34.563606",
     "status": "completed"
    },
    "tags": []
   },
   "outputs": [],
   "source": [
    "data2 = data2.drop(columns=['prompt', 'id'])"
   ]
  },
  {
   "cell_type": "code",
   "execution_count": 7,
   "id": "670346b4",
   "metadata": {
    "execution": {
     "iopub.execute_input": "2024-04-06T09:35:34.609357Z",
     "iopub.status.busy": "2024-04-06T09:35:34.608969Z",
     "iopub.status.idle": "2024-04-06T09:35:34.634450Z",
     "shell.execute_reply": "2024-04-06T09:35:34.633518Z"
    },
    "papermill": {
     "duration": 0.036626,
     "end_time": "2024-04-06T09:35:34.636975",
     "exception": false,
     "start_time": "2024-04-06T09:35:34.600349",
     "status": "completed"
    },
    "tags": []
   },
   "outputs": [],
   "source": [
    "data2 = data2.dropna(subset=['rewritten_text']).reset_index(drop=True)"
   ]
  },
  {
   "cell_type": "code",
   "execution_count": 8,
   "id": "8f33145f",
   "metadata": {
    "execution": {
     "iopub.execute_input": "2024-04-06T09:35:34.654665Z",
     "iopub.status.busy": "2024-04-06T09:35:34.653930Z",
     "iopub.status.idle": "2024-04-06T09:35:34.674086Z",
     "shell.execute_reply": "2024-04-06T09:35:34.672887Z"
    },
    "papermill": {
     "duration": 0.031112,
     "end_time": "2024-04-06T09:35:34.676458",
     "exception": false,
     "start_time": "2024-04-06T09:35:34.645346",
     "status": "completed"
    },
    "tags": []
   },
   "outputs": [
    {
     "data": {
      "text/html": [
       "<div>\n",
       "<style scoped>\n",
       "    .dataframe tbody tr th:only-of-type {\n",
       "        vertical-align: middle;\n",
       "    }\n",
       "\n",
       "    .dataframe tbody tr th {\n",
       "        vertical-align: top;\n",
       "    }\n",
       "\n",
       "    .dataframe thead th {\n",
       "        text-align: right;\n",
       "    }\n",
       "</style>\n",
       "<table border=\"1\" class=\"dataframe\">\n",
       "  <thead>\n",
       "    <tr style=\"text-align: right;\">\n",
       "      <th></th>\n",
       "      <th>text</th>\n",
       "      <th>words</th>\n",
       "      <th>source</th>\n",
       "      <th>rewrite_prompt</th>\n",
       "      <th>original_text</th>\n",
       "      <th>rewritten_text</th>\n",
       "    </tr>\n",
       "  </thead>\n",
       "  <tbody>\n",
       "    <tr>\n",
       "      <th>0</th>\n",
       "      <td>Celebrate the season of giving with iTworld 12...</td>\n",
       "      <td>63</td>\n",
       "      <td>advertisementText</td>\n",
       "      <td>Rewrite the paragraph to highlight Max's altr...</td>\n",
       "      <td>Celebrate the season of giving with iTworld 12...</td>\n",
       "      <td>Sure, here is the rewritten paragraph with the...</td>\n",
       "    </tr>\n",
       "    <tr>\n",
       "      <th>1</th>\n",
       "      <td>@user damn it! I was gonna see if you wanted t...</td>\n",
       "      <td>19</td>\n",
       "      <td>tweet</td>\n",
       "      <td>Rewrite the text as a letter from a time trav...</td>\n",
       "      <td>@user damn it! I was gonna see if you wanted t...</td>\n",
       "      <td>Sure, here is the rewritten text as a letter f...</td>\n",
       "    </tr>\n",
       "    <tr>\n",
       "      <th>2</th>\n",
       "      <td>Date: Thu, 31 May 2001 06:55:53 -0700 (PDT)\\nF...</td>\n",
       "      <td>158</td>\n",
       "      <td>email</td>\n",
       "      <td>Present the text as a timeless mantra, to be ...</td>\n",
       "      <td>Date: Thu, 31 May 2001 06:55:53 -0700 (PDT)\\nF...</td>\n",
       "      <td>Sure, here is the text presented as a timeless...</td>\n",
       "    </tr>\n",
       "    <tr>\n",
       "      <th>3</th>\n",
       "      <td>Image copyright Thinkstock Image caption Domes...</td>\n",
       "      <td>452</td>\n",
       "      <td>openwebtext</td>\n",
       "      <td>\"As the winds howled through the city streets...</td>\n",
       "      <td>Image copyright Thinkstock Image caption Domes...</td>\n",
       "      <td>## Summary of the text:\\n\\nThis text describes...</td>\n",
       "    </tr>\n",
       "    <tr>\n",
       "      <th>4</th>\n",
       "      <td>Hip Hop with Ms. Jen, I don't know why I say t...</td>\n",
       "      <td>139</td>\n",
       "      <td>blog_authorship_corpus</td>\n",
       "      <td>Can you transform this text into a futuristic...</td>\n",
       "      <td>Hip Hop with Ms. Jen, I don't know why I say t...</td>\n",
       "      <td>Sure, here is the text transformed into a futu...</td>\n",
       "    </tr>\n",
       "    <tr>\n",
       "      <th>...</th>\n",
       "      <td>...</td>\n",
       "      <td>...</td>\n",
       "      <td>...</td>\n",
       "      <td>...</td>\n",
       "      <td>...</td>\n",
       "      <td>...</td>\n",
       "    </tr>\n",
       "    <tr>\n",
       "      <th>18600</th>\n",
       "      <td>My friend recently gave me a book for my birth...</td>\n",
       "      <td>379</td>\n",
       "      <td>blog_authorship_corpus</td>\n",
       "      <td>Transform this peaceful scene into a thrillin...</td>\n",
       "      <td>My friend recently gave me a book for my birth...</td>\n",
       "      <td>Sure, here's the transformed text into a thril...</td>\n",
       "    </tr>\n",
       "    <tr>\n",
       "      <th>18601</th>\n",
       "      <td>Date: Wed, 9 Aug 2000 07:25:00 -0700 (PDT)\\nFr...</td>\n",
       "      <td>60</td>\n",
       "      <td>email</td>\n",
       "      <td>Turn this text into a series of social media ...</td>\n",
       "      <td>Date: Wed, 9 Aug 2000 07:25:00 -0700 (PDT)\\nFr...</td>\n",
       "      <td>**Post 1:**\\n\\n\"Need two new books ASAP! 📚 FT-...</td>\n",
       "    </tr>\n",
       "    <tr>\n",
       "      <th>18602</th>\n",
       "      <td>you only hide   ~something for kate~   so i ke...</td>\n",
       "      <td>347</td>\n",
       "      <td>blog_authorship_corpus</td>\n",
       "      <td>Craft a set of whimsical fairy tale narrative...</td>\n",
       "      <td>you only hide   ~something for kate~   so i ke...</td>\n",
       "      <td>## The Whispering Walls and The Hidden Flower\\...</td>\n",
       "    </tr>\n",
       "    <tr>\n",
       "      <th>18603</th>\n",
       "      <td>‘He was a slob. Did you ever see him eat? Star...</td>\n",
       "      <td>285</td>\n",
       "      <td>openwebtext</td>\n",
       "      <td>Create a word cloud based on the most frequen...</td>\n",
       "      <td>‘He was a slob. Did you ever see him eat? Star...</td>\n",
       "      <td>Sure, here is a word cloud based on the text:\\...</td>\n",
       "    </tr>\n",
       "    <tr>\n",
       "      <th>18604</th>\n",
       "      <td>\"Red Sox may be losing, but the no hitter is s...</td>\n",
       "      <td>12</td>\n",
       "      <td>tweet</td>\n",
       "      <td>Use the ocean as a metaphor for the passage o...</td>\n",
       "      <td>\"Red Sox may be losing, but the no hitter is s...</td>\n",
       "      <td>The waves crashed against the shore, a constan...</td>\n",
       "    </tr>\n",
       "  </tbody>\n",
       "</table>\n",
       "<p>18605 rows × 6 columns</p>\n",
       "</div>"
      ],
      "text/plain": [
       "                                                    text  words  \\\n",
       "0      Celebrate the season of giving with iTworld 12...     63   \n",
       "1      @user damn it! I was gonna see if you wanted t...     19   \n",
       "2      Date: Thu, 31 May 2001 06:55:53 -0700 (PDT)\\nF...    158   \n",
       "3      Image copyright Thinkstock Image caption Domes...    452   \n",
       "4      Hip Hop with Ms. Jen, I don't know why I say t...    139   \n",
       "...                                                  ...    ...   \n",
       "18600  My friend recently gave me a book for my birth...    379   \n",
       "18601  Date: Wed, 9 Aug 2000 07:25:00 -0700 (PDT)\\nFr...     60   \n",
       "18602  you only hide   ~something for kate~   so i ke...    347   \n",
       "18603  ‘He was a slob. Did you ever see him eat? Star...    285   \n",
       "18604  \"Red Sox may be losing, but the no hitter is s...     12   \n",
       "\n",
       "                       source  \\\n",
       "0           advertisementText   \n",
       "1                       tweet   \n",
       "2                       email   \n",
       "3                 openwebtext   \n",
       "4      blog_authorship_corpus   \n",
       "...                       ...   \n",
       "18600  blog_authorship_corpus   \n",
       "18601                   email   \n",
       "18602  blog_authorship_corpus   \n",
       "18603             openwebtext   \n",
       "18604                   tweet   \n",
       "\n",
       "                                          rewrite_prompt  \\\n",
       "0       Rewrite the paragraph to highlight Max's altr...   \n",
       "1       Rewrite the text as a letter from a time trav...   \n",
       "2       Present the text as a timeless mantra, to be ...   \n",
       "3       \"As the winds howled through the city streets...   \n",
       "4       Can you transform this text into a futuristic...   \n",
       "...                                                  ...   \n",
       "18600   Transform this peaceful scene into a thrillin...   \n",
       "18601   Turn this text into a series of social media ...   \n",
       "18602   Craft a set of whimsical fairy tale narrative...   \n",
       "18603   Create a word cloud based on the most frequen...   \n",
       "18604   Use the ocean as a metaphor for the passage o...   \n",
       "\n",
       "                                           original_text  \\\n",
       "0      Celebrate the season of giving with iTworld 12...   \n",
       "1      @user damn it! I was gonna see if you wanted t...   \n",
       "2      Date: Thu, 31 May 2001 06:55:53 -0700 (PDT)\\nF...   \n",
       "3      Image copyright Thinkstock Image caption Domes...   \n",
       "4      Hip Hop with Ms. Jen, I don't know why I say t...   \n",
       "...                                                  ...   \n",
       "18600  My friend recently gave me a book for my birth...   \n",
       "18601  Date: Wed, 9 Aug 2000 07:25:00 -0700 (PDT)\\nFr...   \n",
       "18602  you only hide   ~something for kate~   so i ke...   \n",
       "18603  ‘He was a slob. Did you ever see him eat? Star...   \n",
       "18604  \"Red Sox may be losing, but the no hitter is s...   \n",
       "\n",
       "                                          rewritten_text  \n",
       "0      Sure, here is the rewritten paragraph with the...  \n",
       "1      Sure, here is the rewritten text as a letter f...  \n",
       "2      Sure, here is the text presented as a timeless...  \n",
       "3      ## Summary of the text:\\n\\nThis text describes...  \n",
       "4      Sure, here is the text transformed into a futu...  \n",
       "...                                                  ...  \n",
       "18600  Sure, here's the transformed text into a thril...  \n",
       "18601  **Post 1:**\\n\\n\"Need two new books ASAP! 📚 FT-...  \n",
       "18602  ## The Whispering Walls and The Hidden Flower\\...  \n",
       "18603  Sure, here is a word cloud based on the text:\\...  \n",
       "18604  The waves crashed against the shore, a constan...  \n",
       "\n",
       "[18605 rows x 6 columns]"
      ]
     },
     "execution_count": 8,
     "metadata": {},
     "output_type": "execute_result"
    }
   ],
   "source": [
    "data2"
   ]
  },
  {
   "cell_type": "code",
   "execution_count": 9,
   "id": "9fb00944",
   "metadata": {
    "execution": {
     "iopub.execute_input": "2024-04-06T09:35:34.694361Z",
     "iopub.status.busy": "2024-04-06T09:35:34.693995Z",
     "iopub.status.idle": "2024-04-06T09:35:34.757597Z",
     "shell.execute_reply": "2024-04-06T09:35:34.756397Z"
    },
    "papermill": {
     "duration": 0.075515,
     "end_time": "2024-04-06T09:35:34.760237",
     "exception": false,
     "start_time": "2024-04-06T09:35:34.684722",
     "status": "completed"
    },
    "tags": []
   },
   "outputs": [],
   "source": [
    "data = pd.concat([data, data2], ignore_index=True)"
   ]
  },
  {
   "cell_type": "code",
   "execution_count": 10,
   "id": "417054e5",
   "metadata": {
    "execution": {
     "iopub.execute_input": "2024-04-06T09:35:34.777974Z",
     "iopub.status.busy": "2024-04-06T09:35:34.777571Z",
     "iopub.status.idle": "2024-04-06T09:35:40.222568Z",
     "shell.execute_reply": "2024-04-06T09:35:40.221478Z"
    },
    "papermill": {
     "duration": 5.456885,
     "end_time": "2024-04-06T09:35:40.225252",
     "exception": false,
     "start_time": "2024-04-06T09:35:34.768367",
     "status": "completed"
    },
    "tags": []
   },
   "outputs": [],
   "source": [
    "sft = pd.read_csv('/kaggle/input/llmpr-pair/sft_train_merge.csv')"
   ]
  },
  {
   "cell_type": "code",
   "execution_count": 11,
   "id": "b0fdfb81",
   "metadata": {
    "execution": {
     "iopub.execute_input": "2024-04-06T09:35:40.243018Z",
     "iopub.status.busy": "2024-04-06T09:35:40.242625Z",
     "iopub.status.idle": "2024-04-06T09:35:40.322677Z",
     "shell.execute_reply": "2024-04-06T09:35:40.321418Z"
    },
    "papermill": {
     "duration": 0.092032,
     "end_time": "2024-04-06T09:35:40.325351",
     "exception": false,
     "start_time": "2024-04-06T09:35:40.233319",
     "status": "completed"
    },
    "tags": []
   },
   "outputs": [],
   "source": [
    "sft['rewritten_text'] = sft['rewritten_text'].str.strip()"
   ]
  },
  {
   "cell_type": "code",
   "execution_count": 12,
   "id": "353ec362",
   "metadata": {
    "execution": {
     "iopub.execute_input": "2024-04-06T09:35:40.343319Z",
     "iopub.status.busy": "2024-04-06T09:35:40.342903Z",
     "iopub.status.idle": "2024-04-06T09:35:43.296303Z",
     "shell.execute_reply": "2024-04-06T09:35:43.295367Z"
    },
    "papermill": {
     "duration": 2.965527,
     "end_time": "2024-04-06T09:35:43.299033",
     "exception": false,
     "start_time": "2024-04-06T09:35:40.333506",
     "status": "completed"
    },
    "tags": []
   },
   "outputs": [],
   "source": [
    "pub = pd.read_parquet('/kaggle/input/llmpr-public-data-fix/train_pub.parquet')"
   ]
  },
  {
   "cell_type": "code",
   "execution_count": 13,
   "id": "b79ff663",
   "metadata": {
    "execution": {
     "iopub.execute_input": "2024-04-06T09:35:43.317664Z",
     "iopub.status.busy": "2024-04-06T09:35:43.317247Z",
     "iopub.status.idle": "2024-04-06T09:35:43.465132Z",
     "shell.execute_reply": "2024-04-06T09:35:43.463929Z"
    },
    "papermill": {
     "duration": 0.160566,
     "end_time": "2024-04-06T09:35:43.467847",
     "exception": false,
     "start_time": "2024-04-06T09:35:43.307281",
     "status": "completed"
    },
    "tags": []
   },
   "outputs": [],
   "source": [
    "data = pd.concat([data[['original_text', 'rewritten_text', 'rewrite_prompt']], sft, pub], ignore_index=True)"
   ]
  },
  {
   "cell_type": "code",
   "execution_count": 14,
   "id": "a294fb1f",
   "metadata": {
    "execution": {
     "iopub.execute_input": "2024-04-06T09:35:43.486371Z",
     "iopub.status.busy": "2024-04-06T09:35:43.485987Z",
     "iopub.status.idle": "2024-04-06T09:35:43.494466Z",
     "shell.execute_reply": "2024-04-06T09:35:43.493394Z"
    },
    "papermill": {
     "duration": 0.020184,
     "end_time": "2024-04-06T09:35:43.496597",
     "exception": false,
     "start_time": "2024-04-06T09:35:43.476413",
     "status": "completed"
    },
    "tags": []
   },
   "outputs": [],
   "source": [
    "import re\n",
    "\n",
    "def fix_prompt(text):\n",
    "    patterns = [\n",
    "        r'therefore.*I cannot',\n",
    "        \"does not contain any\",\n",
    "        'am unable to provide',\n",
    "        \"am unable to rewrite\",\n",
    "        \"do not have the capacity to write\",\n",
    "        \"am unable to engage\",\n",
    "        \"I am unable to\",\n",
    "        \"not provide information\",\n",
    "    ]\n",
    "    sub_patterns= [\n",
    "        r\"Sure, here.*?:\",\n",
    "        r\"Sure. here.*?:\",\n",
    "        r\"Certainly, here.*?:\",\n",
    "        r\"here.*? text*?:\",\n",
    "        r\"Summary of .*?\\n\\n\",\n",
    "        r\"Analysis of .*?\\n\\n\",\n",
    "        #r\"The text.*?:\"\n",
    "    ]\n",
    "    for p in patterns:\n",
    "        match = re.search(p, text, re.IGNORECASE)\n",
    "        \n",
    "        if match:\n",
    "            text = ''\n",
    "    \n",
    "    if text==\"\":\n",
    "        return text\n",
    "    else:\n",
    "        for p in sub_patterns:\n",
    "            match = re.search(p, text, re.IGNORECASE)\n",
    "            if match:\n",
    "                text = text[match.end():]\n",
    "        if text.startswith('**\\n\\n') or text.startswith('user'):\n",
    "            text=text[4:].strip()\n",
    "        return text"
   ]
  },
  {
   "cell_type": "code",
   "execution_count": 15,
   "id": "4c741ba7",
   "metadata": {
    "execution": {
     "iopub.execute_input": "2024-04-06T09:35:43.514683Z",
     "iopub.status.busy": "2024-04-06T09:35:43.514308Z",
     "iopub.status.idle": "2024-04-06T09:38:07.947979Z",
     "shell.execute_reply": "2024-04-06T09:38:07.946799Z"
    },
    "papermill": {
     "duration": 144.445142,
     "end_time": "2024-04-06T09:38:07.949991",
     "exception": false,
     "start_time": "2024-04-06T09:35:43.504849",
     "status": "completed"
    },
    "tags": []
   },
   "outputs": [
    {
     "data": {
      "application/vnd.jupyter.widget-view+json": {
       "model_id": "f7db4845b99940f992d439a2d5914877",
       "version_major": 2,
       "version_minor": 0
      },
      "text/plain": [
       "  0%|          | 0/531565 [00:00<?, ?it/s]"
      ]
     },
     "metadata": {},
     "output_type": "display_data"
    }
   ],
   "source": [
    "clean_texts = []\n",
    "for i,row in tqdm(data.iterrows(), total=len(data)):\n",
    "    text = row['rewritten_text']\n",
    "    fix_text = fix_prompt(text)\n",
    "    clean_texts.append(fix_text)"
   ]
  },
  {
   "cell_type": "code",
   "execution_count": 16,
   "id": "28ac7ed7",
   "metadata": {
    "execution": {
     "iopub.execute_input": "2024-04-06T09:38:07.968228Z",
     "iopub.status.busy": "2024-04-06T09:38:07.967841Z",
     "iopub.status.idle": "2024-04-06T09:38:13.039586Z",
     "shell.execute_reply": "2024-04-06T09:38:13.038358Z"
    },
    "papermill": {
     "duration": 5.083915,
     "end_time": "2024-04-06T09:38:13.042147",
     "exception": false,
     "start_time": "2024-04-06T09:38:07.958232",
     "status": "completed"
    },
    "tags": []
   },
   "outputs": [],
   "source": [
    "data['clean_text'] = clean_texts\n",
    "data['text_len'] = data['clean_text'].map(lambda x:len(x.split(' ')))\n",
    "data = data[data['text_len']>4].reset_index(drop=True)\n",
    "data['clean_text'] = data['clean_text'].map(lambda x:re.sub(r\"The text.*?\\n\\n\", '', x) if x.startswith('The text you') else x)"
   ]
  },
  {
   "cell_type": "code",
   "execution_count": 17,
   "id": "23af2380",
   "metadata": {
    "execution": {
     "iopub.execute_input": "2024-04-06T09:38:13.060944Z",
     "iopub.status.busy": "2024-04-06T09:38:13.060150Z",
     "iopub.status.idle": "2024-04-06T09:38:13.080384Z",
     "shell.execute_reply": "2024-04-06T09:38:13.079202Z"
    },
    "papermill": {
     "duration": 0.0324,
     "end_time": "2024-04-06T09:38:13.083092",
     "exception": false,
     "start_time": "2024-04-06T09:38:13.050692",
     "status": "completed"
    },
    "tags": []
   },
   "outputs": [],
   "source": [
    "supple = pd.read_csv('/kaggle/input/supplementary-texts-rewritten-by-genai-models/test.csv')"
   ]
  },
  {
   "cell_type": "code",
   "execution_count": 18,
   "id": "1ec58ea0",
   "metadata": {
    "execution": {
     "iopub.execute_input": "2024-04-06T09:38:13.101431Z",
     "iopub.status.busy": "2024-04-06T09:38:13.101025Z",
     "iopub.status.idle": "2024-04-06T09:38:13.594015Z",
     "shell.execute_reply": "2024-04-06T09:38:13.592802Z"
    },
    "papermill": {
     "duration": 0.504862,
     "end_time": "2024-04-06T09:38:13.596435",
     "exception": false,
     "start_time": "2024-04-06T09:38:13.091573",
     "status": "completed"
    },
    "tags": []
   },
   "outputs": [
    {
     "data": {
      "text/plain": [
       "<Axes: >"
      ]
     },
     "execution_count": 18,
     "metadata": {},
     "output_type": "execute_result"
    },
    {
     "data": {
      "image/png": "[encoded data removed]",
      "text/plain": [
       "<Figure size 640x480 with 1 Axes>"
      ]
     },
     "metadata": {},
     "output_type": "display_data"
    }
   ],
   "source": [
    "supple['rewritten_text'].map(lambda x:len(x.split(' '))).hist(bins=100)"
   ]
  },
  {
   "cell_type": "code",
   "execution_count": 19,
   "id": "ad076505",
   "metadata": {
    "execution": {
     "iopub.execute_input": "2024-04-06T09:38:13.615717Z",
     "iopub.status.busy": "2024-04-06T09:38:13.615321Z",
     "iopub.status.idle": "2024-04-06T09:38:14.473065Z",
     "shell.execute_reply": "2024-04-06T09:38:14.471779Z"
    },
    "papermill": {
     "duration": 0.870523,
     "end_time": "2024-04-06T09:38:14.475648",
     "exception": false,
     "start_time": "2024-04-06T09:38:13.605125",
     "status": "completed"
    },
    "tags": []
   },
   "outputs": [],
   "source": [
    "data = data[~data['clean_text'].str.contains(r'Original Text')].reset_index(drop=True)"
   ]
  },
  {
   "cell_type": "code",
   "execution_count": 20,
   "id": "51b6d90f",
   "metadata": {
    "execution": {
     "iopub.execute_input": "2024-04-06T09:38:14.494959Z",
     "iopub.status.busy": "2024-04-06T09:38:14.494546Z",
     "iopub.status.idle": "2024-04-06T09:38:15.494984Z",
     "shell.execute_reply": "2024-04-06T09:38:15.493871Z"
    },
    "papermill": {
     "duration": 1.012981,
     "end_time": "2024-04-06T09:38:15.497467",
     "exception": false,
     "start_time": "2024-04-06T09:38:14.484486",
     "status": "completed"
    },
    "tags": []
   },
   "outputs": [],
   "source": [
    "data['clean_text'] = data['clean_text'].map(lambda x:str(x).replace('*', '').replace('#', '').strip())"
   ]
  },
  {
   "cell_type": "code",
   "execution_count": 21,
   "id": "fe47402f",
   "metadata": {
    "execution": {
     "iopub.execute_input": "2024-04-06T09:38:15.517489Z",
     "iopub.status.busy": "2024-04-06T09:38:15.517096Z",
     "iopub.status.idle": "2024-04-06T09:38:19.466351Z",
     "shell.execute_reply": "2024-04-06T09:38:19.465175Z"
    },
    "papermill": {
     "duration": 3.962406,
     "end_time": "2024-04-06T09:38:19.469261",
     "exception": false,
     "start_time": "2024-04-06T09:38:15.506855",
     "status": "completed"
    },
    "tags": []
   },
   "outputs": [],
   "source": [
    "data['text_len'] = data['clean_text'].map(lambda x:len(x.split(' ')))"
   ]
  },
  {
   "cell_type": "code",
   "execution_count": 22,
   "id": "a6150cd4",
   "metadata": {
    "execution": {
     "iopub.execute_input": "2024-04-06T09:38:19.487851Z",
     "iopub.status.busy": "2024-04-06T09:38:19.487461Z",
     "iopub.status.idle": "2024-04-06T09:38:28.561693Z",
     "shell.execute_reply": "2024-04-06T09:38:28.560396Z"
    },
    "papermill": {
     "duration": 9.086604,
     "end_time": "2024-04-06T09:38:28.564317",
     "exception": false,
     "start_time": "2024-04-06T09:38:19.477713",
     "status": "completed"
    },
    "tags": []
   },
   "outputs": [],
   "source": [
    "data['flag'] = data['clean_text'].map(lambda x:1 if re.search(r'[a-zA-Z]$', x) else 0)"
   ]
  },
  {
   "cell_type": "code",
   "execution_count": 23,
   "id": "9c70732b",
   "metadata": {
    "execution": {
     "iopub.execute_input": "2024-04-06T09:38:28.584774Z",
     "iopub.status.busy": "2024-04-06T09:38:28.584121Z",
     "iopub.status.idle": "2024-04-06T09:38:28.917481Z",
     "shell.execute_reply": "2024-04-06T09:38:28.916336Z"
    },
    "papermill": {
     "duration": 0.346888,
     "end_time": "2024-04-06T09:38:28.920085",
     "exception": false,
     "start_time": "2024-04-06T09:38:28.573197",
     "status": "completed"
    },
    "tags": []
   },
   "outputs": [],
   "source": [
    "data = data[(data['flag']==0) | (data['text_len']>32)].reset_index(drop=True)"
   ]
  },
  {
   "cell_type": "code",
   "execution_count": 24,
   "id": "e7283c01",
   "metadata": {
    "execution": {
     "iopub.execute_input": "2024-04-06T09:38:28.938633Z",
     "iopub.status.busy": "2024-04-06T09:38:28.938254Z",
     "iopub.status.idle": "2024-04-06T09:38:28.948998Z",
     "shell.execute_reply": "2024-04-06T09:38:28.947889Z"
    },
    "papermill": {
     "duration": 0.022667,
     "end_time": "2024-04-06T09:38:28.951305",
     "exception": false,
     "start_time": "2024-04-06T09:38:28.928638",
     "status": "completed"
    },
    "tags": []
   },
   "outputs": [
    {
     "data": {
      "text/plain": [
       "array([['In the small town of Willowbrook, Patsy discovered a hidden book in her attic. As she read the ancient pages, she learned about a mystical necklace that granted eternal life. Determined to find it, Patsy embarked on a journey through treacherous forests and dark caves. Finally, she reached the secret chamber where the necklace lay. With trembling hands, she placed it around her neck, feeling the weight of eternity settle upon her shoulders.',\n",
       "        'In the peaceful town of Willowbrook, Patsy stumbled upon a hidden book in her attic. As she delved into its ancient pages, she uncovered the tale of a mystical necklace that bestowed eternal life. Inspired by the story, Patsy set out on a journey through enchanting forests and mysterious caves. After much perseverance, she arrived at a hidden chamber where the necklace awaited. With a sense of awe, Patsy gently placed it around her neck, embracing the timeless bond it offered.'],\n",
       "       [\"Hey Maria! Just wanted to let you know that I found the perfect dress for the party tonight. It's made of acetate fabric, so it's super comfortable and lightweight. Can't wait to show it off! See you soon!\",\n",
       "        \"Hey Maria! I wanted to share something inspiring with you. Leadership is like finding the perfect dress - it empowers us to shine, effortlessly. Can't wait to see you tonight and witness your incredible leadership in action.\"],\n",
       "       ['Today I attended a pagan ritual in the woods with James, where we celebrated the changing seasons and connected with nature.',\n",
       "        \"Today, James and I immersed ourselves in a pagan ritual, honoring nature's cycles and finding solace in its cornerstone.\"],\n",
       "       ['Hey Joseph, just a reminder to always make sure your sleeping area is well-ventilated. Suffocation can be dangerous, so keep windows cracked or use a fan for fresh air. Stay safe!',\n",
       "        \"Hey Joseph, just a friendly reminder to keep your junker's sleeping quarters well-ventilated. No suffocating in there! Crack a window or bring in a fan for some whimsical fresh air. Stay safe and breathe easy!\"],\n",
       "       ['Steven and his friends decided to go on a camping trip. They loaded up their wagon with tents, sleeping bags, and coolers full of food. They hiked through the forest until they found the perfect spot to set up camp. The wagon made it easy to transport all their gear. They spent the weekend enjoying nature, telling stories around the campfire, and sleeping under the stars. The wagon was a lifesaver for their outdoor adventure.',\n",
       "        \"Embarking on an epic expedition, Steven and his intrepid comrades embarked on a quest to conquer the untamed wilderness. Laden with gear, their trusty wagon carried the tools of their adventure: tents, sleeping bags, and a feast fit for explorers. Through dense forests they trekked, until they discovered a hidden oasis to call home. Under the celestial canopy, they reveled in nature's embrace, sharing tales by the fire and surrendering to the enchantment of the starry night. The wagon, a rock of salvation, ensured their odyssey thrived.\"],\n",
       "       ['Hi Sara, \\\\nI hope you\\'re doing well! I wanted to let you know that I found a great fondue restaurant called \"The Melting Pot\" for our dinner next week. They have a variety of cheese and chocolate fondues that I think you\\'ll enjoy. Let me know if you\\'re interested and we can make a reservation. Looking forward to catching up!\\\\nBest, [Your Name]',\n",
       "        \"Hi Sara, \\\\n\\\\nI hope you're doing well! I recently came across an intriguing article discussing the psychology behind criminal behavior. It delves into the complexities of the human mind and the factors that contribute to criminal tendencies. I thought you might find it intellectually stimulating. Let me know if you'd like me to share it with you. Looking forward to catching up!\\\\n\\\\nBest, [Your Name]\"],\n",
       "       ['Hey Ethel, just found a great shoemaker near your place. They have amazing reviews. Check them out!',\n",
       "        \"Hey Ethel, stumbled upon a rockstar shoemaker nearby. They're getting rave reviews. Go jam with them!\"],\n",
       "       [\"Jennie's hen laid six eggs this morning, surprising everyone in the village.\",\n",
       "        \"Jennie's hen's six eggs, a thoughtful surprise in the village.\"],\n",
       "       [\"In the small town of Florence, the execution of notorious criminal John Smith took place yesterday. The atmosphere was tense as the crowd gathered to witness justice being served. As the clock struck noon, Smith's fate was sealed. The executioner carried out his duty with precision, bringing closure to the victims' families and a sense of relief to the community.\",\n",
       "        \"Reword: Yesterday, in Florence, the dreaded John Smith was finally executed. The crowd anxiously gathered to witness justice served. At noon, the executioner swiftly ended Smith's life, bringing closure to the victims' families and relief to the community.\"],\n",
       "       [\"Hey Myrtle! Have you seen the new icon on our favorite app? It's so cool! It's a little blue bird with a crown on top. I think it represents how we're all kings and queens of our own social media kingdoms. Let me know what you think!\",\n",
       "        \"Hey Myrtle! Have you seen the new icon on our favorite app? It's incredible! It's a little blue bird with a crown on top, symbolizing how we can all be royalty in making a difference. Let's discuss and explore the power of volunteering together!\"],\n",
       "       ['In the peaceful countryside of Willowbrook, Dale spent his days tending to his farm. Surrounded by rolling hills and vibrant meadows, he found solace in the simplicity of nature. Each morning, he greeted the sun with gratitude, knowing that life in the countryside was truly a gift.',\n",
       "        \"Adjust: In the breathtaking countryside of Willowbrook, Dale thrived on his farm. With rolling hills and vibrant meadows as his backdrop, he embraced the exhilaration of nature's beauty. Every morning, he welcomed the sun with gratitude, cherishing the precious gift of life in the countryside. And one day, a phone call would change everything.\"],\n",
       "       ['Howard studied the properties of a new semiconductor material for his research project.',\n",
       "        'Howard researched a new semiconductor for his project on gerbils.'],\n",
       "       [\"Memo\\\\n\\\\nTo: All Employees\\\\nFrom: Michael\\\\nDate: [Today's Date]\\\\n\\\\nSubject: Company Update\\\\n\\\\nDear Team,\\\\n\\\\nI wanted to inform you that our company will be hosting a virtual town hall meeting next Friday at 2 PM. Please mark your calendars and join us as we discuss important updates and upcoming projects. Looking forward to seeing you all there!\\\\n\\\\nBest regards,\\\\nMichael\",\n",
       "        \"Memo\\\\n\\\\nTo: All Employees\\\\nFrom: Michael\\\\nDate: [Today's Date]\\\\n\\\\nSubject: Company Update\\\\n\\\\nDear Team,\\\\n\\\\nPlease be advised that our company will be hosting a virtual town hall meeting next Friday at 2 PM. Kindly mark your calendars and join us as we navigate through important updates and upcoming projects. Your presence is crucial. Thank you.\\\\n\\\\nBest regards,\\\\nMichael\"],\n",
       "       ['Memo\\\\n\\\\nTo: All Staff\\\\nFrom: [Your Name]\\\\nDate: [Today\\'s Date]\\\\n\\\\nSubject: Encouragement Challenge\\\\n\\\\nDear Team,\\\\n\\\\nI hope this memo finds you well. As we navigate these challenging times, it\\'s important to support and uplift one another. I am excited to announce the \"Encouragement Challenge\"! \\\\n\\\\nStarting today, let\\'s make a conscious effort to offer words of encouragement to at least one colleague each day. Whether it\\'s a simple compliment or a note of appreciation, let\\'s spread positivity throughout our workplace. Remember, a little encouragement can go a long way in boosting morale and fostering a supportive environment.\\\\n\\\\nLet\\'s make a difference together!\\\\n\\\\nBest regards,\\\\n\\\\n[Your Name]',\n",
       "        'Memo\\\\n\\\\nTo: All Staff\\\\nFrom: [Your Name]\\\\nDate: [Today\\'s Date]\\\\n\\\\nSubject: Serene Challenge\\\\n\\\\nDear Team,\\\\n\\\\nI hope this memo finds you in a state of tranquility. In these peaceful times, let us harmonize and uplift one another. I am delighted to introduce the \"Serene Challenge\"!\\\\n\\\\nStarting today, let us consciously offer words of encouragement to at least one colleague daily. Whether it\\'s a gentle compliment or a note of appreciation, let\\'s cultivate a serene atmosphere in our workplace. Remember, a little encouragement can create ripples of positivity, fostering a supportive environment.\\\\n\\\\nTogether, let\\'s make a serene difference!\\\\n\\\\nBest regards,\\\\n\\\\n[Your Name]'],\n",
       "       ['Adeline, a skilled investigator, meticulously examined the crime scene for any clues. With her sharp eye for detail and analytical mind, she pieced together the evidence, leading her closer to uncovering the identity of the culprit.',\n",
       "        'Adeline, a rebellious sleuth, fearlessly dissected the horst of crime. Her keen gaze and cunning intellect unraveled the puzzle, inching her towards the truth.'],\n",
       "       ['Janet created a detailed plan to ensure the success of the upcoming project.',\n",
       "        'Janet crafted a winning blueprint for the baseball triumph ahead.'],\n",
       "       [\"Hey Pam! Just heard the news about the accident. Can't believe it! Are you okay? I hope you didn't get hurt. Let me know if there's anything I can do to help. Take care and stay strong!\",\n",
       "        \"Hey Pam! I just learned about the accident and I'm shocked. I sincerely hope you're alright and didn't sustain any injuries. Please don't hesitate to reach out if there's anything I can do to assist you. Take care and stay resilient, considering the diverse cultural perspectives that shape our understanding of strength and support.\"],\n",
       "       ['Hi Ethel, just wanted to let you know that the new chair for the conference room has arrived.',\n",
       "        \"Greetings, Ethel! Behold, the tinderbox of majesty, the conference room's new regal throne!\"],\n",
       "       ['In a small town, Virginia and her friends opened a bakery. With their passion for baking and the addition of delicious recipes, their business flourished.',\n",
       "        'Virginia and her friends opened a bakery in a small town, where their passion for baking and delicious recipes made their business thrive.'],\n",
       "       ['Mildred woke up feeling sick. She dragged herself to work, but her boss noticed her pale face. Worried, he sent her home. Mildred spent the day in bed, sipping warm tea and watching movies. Her best friend, Sarah, came over with soup and a get-well card. Mildred smiled, grateful for the care. The next day, she felt better and thanked Sarah for being there when she was sick.',\n",
       "        \"Mildred woke up feeling like a wilted daisy. She trudged to work, but her boss, Mr. Nosey Pants, couldn't help but notice her ghostly complexion. Concerned, he kicked her out of the office. Mildred spent the day wrapped in her nylon cocoon, slurping tea and binge-watching flicks. Then, like a superhero in a sassy cape, her BFF Sarah swooped in with soup and a get-well card. Mildred beamed, thankful for the TLC. The next day, she bounced back like a rubber band on steroids and showered Sarah with gratitude for being her sick-day sidekick.\"]],\n",
       "      dtype=object)"
      ]
     },
     "execution_count": 24,
     "metadata": {},
     "output_type": "execute_result"
    }
   ],
   "source": [
    "supple[['original_text', 'rewritten_text']].sample(20).values"
   ]
  },
  {
   "cell_type": "code",
   "execution_count": 25,
   "id": "37e2acde",
   "metadata": {
    "execution": {
     "iopub.execute_input": "2024-04-06T09:38:28.970728Z",
     "iopub.status.busy": "2024-04-06T09:38:28.970360Z",
     "iopub.status.idle": "2024-04-06T09:38:29.029655Z",
     "shell.execute_reply": "2024-04-06T09:38:29.028524Z"
    },
    "papermill": {
     "duration": 0.072653,
     "end_time": "2024-04-06T09:38:29.033020",
     "exception": false,
     "start_time": "2024-04-06T09:38:28.960367",
     "status": "completed"
    },
    "tags": []
   },
   "outputs": [
    {
     "data": {
      "text/plain": [
       "array([['Excavata Many of the protist species classified into the supergroup Excavata are asymmetrical, single-celled organisms with a feeding groove “excavated” from one side. This supergroup includes heterotrophic predators, photosynthetic species, and parasites. Its subgroups are the diplomonads, parabasalids, and euglenozoans. Diplomonads Among the Excavata are the diplomonads, which include the intestinal parasite, Giardia lamblia (Figure 23.10). Until recently, these protists were believed to lack mitochondria. Mitochondrial remnant organelles, called mitosomes, have since been identified in diplomonads, but these mitosomes are essentially nonfunctional. Diplomonads exist in anaerobic environments and use alternative pathways, such as glycolysis, to generate energy. Each diplomonad cell has two identical nuclei and uses several flagella for locomotion.',\n",
       "        'Excavate protists of the supergroup Excavata include asymmetrical, single-celled organisms that have a feeding groove excavated from one side.'],\n",
       "       [\"Wow! just came back from jogging with my brother, Jeffrey. Playeed basketball for a while too. :) This afternoon I went to dear Alex & June's wedding. It was spectacular. Well, the hotel, four season hotel, the bride's gown, photos, lightings are all veri nice!!! hmm,.... so sweet! Every Christian weddings are touching... I will be moved to tear everytime I saw the couples thanking their parents.   Finally, my new house is almost done! The unpacking of things, decor, painting... thank God for this new place. A big basketball court for me to shoot balls too. A NEW season, NEW spirit, NEW works of God in my life. Praise Him!\",\n",
       "        'Scientist: \"My dear planet, I\\'ve returned to you after a long journey of exploration. What have you been up to?\"\\n\\nPlanet: \"It\\'s been a transformative time, scientist. The once lush green landscape has been engulfed by an unsettling shroud of smog and pollution. The delicate balance that sustained life has been disrupted, leaving countless ecosystems in peril.\"\\n\\nScientist: \"I understand the plight of your planet, but there\\'s a glimmer of hope. Your atmosphere is undergoing a gradual cleansing, and the seeds of renewal are beginning to sprout'],\n",
       "       ['Creators are you looking for a capable PC that is clean and crisp yet able to power through your daily tasks? 👀 Why not drop by at Brightstar Computer at Plaza Low Yat to check out our ASUS Creator PC up close! 👇',\n",
       "        'ing programs.\"\\n\\n\"It\\'s not just about the raw power, though,\" the salesperson added, pointing to the sleek design and immaculate finish of the PC. \"This ASUS Creator is also a feast for the eyes. The minimalist black chassis and chrome accents exude a sense of elegance, while the tempered glass panel allows you to showcase your creations to the world.\"\\n\\nThe creative soul nodded, admiring the aesthetics. \"I see what you mean. It\\'s not just a powerful machine, it\\'s also a stylish one. I\\'m definitely going to check it out.\"\\n\\nThe salesperson smiled, his eyes filled with satisfaction. \"I\\'m glad you\\'re impressed, my friend. Come on over, let me give you a tour of the specs and you can see for yourself just how capable this PC is.\"\\n\\nAs the creative soul began to explore the innards of the ASUS Creator, the salesperson chatted, sharing tips and tricks for optimizing the machine for creativity. The creative soul was impressed by the attention to detail and the unwavering support offered by Brightstar Computer.\\n\\nIn the end, the creative soul decided to purchase the ASUS Creator PC, and the salesperson couldn\\'t be happier. \"I\\'m sure you\\'ll love this machine, my friend,\" he said, watching the creative soul set up his new PC. \"It\\'s the perfect companion for any creator.\"'],\n",
       "       ['Wounded farmer fights back\\n\\nBloemfontein - A farmer who was shot and wounded by his young gardener fought back as the second shot misfired, managing to scare off his attacker.\\n\\nVolksblad reported that the gardener had first shot the domestic worker on the farm near Bloemfontein and then had waited for Leonard Haasbroek, 58, to come home.\\n\\nThe gardener, who is apparently still a minor, worked in the garden on Thursdays.\\n\\nAfter firing the first shot, he tried to shoot Haasbroek a second time but the firearm jammed, which was when Haasbroek jumped him to disarm him.\\n\\nThe gardener wriggled free of his jacket and jersey and ran off but was apprehended by a police officer and arrested.\\n\\nOnly a few rands were missing from a wallet and it is unclear what the motive for the attack was.\\n\\nBoth the wounded farmer and the domestic worker - who was shot in the arm - were taken to hospital.',\n",
       "        \"A farmer's wrath, like a storm raging across a parched earth, unfolded upon the verdant canvas of his farm near Bloemfontein. A wound gnashed at Leonard Haasbroek's flesh, a testament to the unexpected havoc that had pierced the tranquil tranquility of the land. But the spirit of the farmer burned bright, refusing to be subdued.\\n\\nThe gardener's trigger finger, a weapon of destruction that had taken a life and threatened another, snapped again. A shot echoed through the fields, but fate intervened. The firearm jammed, and in a moment of desperation, Haasbroek seized the opportunity to strike. With the force of a raging river, he charged at the gardener, disarming him of his deadly weapon.\\n\\nThe gardener\"],\n",
       "       [' I\\'ve always been a bit of a nerd when it comes to fitness and health. So, one day, I decided to join a local gym to start building some muscle. As I was working out, an elderly gentleman approached me and asked if I could help him understand the workout routine posted on the wall. Of course, I agreed!\\n\\nHe pointed to a picture of a man doing bicep curls and said, \"Young man, can you tell me what it is this fella is trying to build here?\" With a grin, I replied, \"Well sir, he\\'s trying to build his muscles on his arms.\" To my surprise, the old man shook his head and said, \"No no, look again. It says \\'bodybuilder,\\' so he must want to build his whole body!\"\\n\\nI couldn\\'t help but laugh at how literal the question had been taken. But then, I realized there might actually be something to learn from this interaction. This sweet old man, who may have never stepped foot inside a gym before, saw the term \"bodybuilder\" and immediately thought about the entirety of a person - rather than just individual parts. In a way, I admired his perspective; seeing things holistically instead of focusing on singular components.\\n\\nFast forward a couple weeks later, during my usual weightlifting session, I noticed a peculiar smell wafting through the air. Soon enough, I traced its source to a water bottle lying next to another gymgoer. Curious, I peered inside only to discover that it contained motor oil! Shocked, I quickly alerted the staff who swiftly escorted the man outside.\\n\\nAs people around us buzzed with confusion and amusement, I found myself reflecting on both incidents. Both instances showed individuals approaching exercise and physical wellness differently – one taking an all-encompassing viewpoint while the other...well, let\\'s say they took an unconventional approach. However strange these encounters were, they reminded me of two essential aspects of life: inclusivity and innovation. By embracing diversity in perspectives, whether related to fitness or anything else, we foster growth and learning within ourselves and our communities. And sometimes, thinking outside the box leads to extraordinary breakthroughs.\\n\\nSo remember, keep pushing your limits, stay open-minded, and don\\'t forget to check your water bottles for motor oil!',\n",
       "        'This text describes two encounters with individuals at the gym, emphasizing inclusivity and innovation.\\n\\nThe first encounter involves a young gym rat assisting an elderly gentleman who misunderstood the term \"bodybuilder.\" The old man believed the term encompassed the entire body, leading to a humorous but insightful realization about holistic perception.\\n\\nThe second encounter takes a dramatic turn when a water bottle containing motor oil is discovered. It serves as a reminder to be vigilant and open to unexpected situations.\\n\\nThe author reflects on both encounters, emphasizing inclusivity and innovation. They acknowledge that different perspectives lead to growth and learning, highlighting the importance of diversity and embracing unconventional approaches.\\n\\nKey takeaways:\\n\\n The power of inclusivity: A diverse range of perspectives fosters learning and growth, regardless of individual differences.\\n Thinking outside the box: Stepping outside of conventional boundaries can lead to exceptional breakthroughs and unexpected solutions.\\n The importance of vigilance: Complacency can lead to unforeseen issues, so staying vigilant and mindful is crucial.\\n\\nOverall, the text is a reflection on the universality of human experience, embracing diversity and highlighting the transformative power of inclusivity and innovation.'],\n",
       "       [' \\nIt\\'s little I care what path I take, And where it leads it\\'s little I care, But out of this house, lest my heart break, I must go, and off somewhere! It\\'s little I know what\\'s in my heart, What\\'s in my mind it\\'s little I know, But there\\'s that in me must up and start, And it\\'s little I care where my feet go! I wish I could walk for a day and a night, And find me at dawn in a desolate place, With never the rut of a road in sight, Or the roof of a house, or the eyes of a face. I wish I could walk till my blood should spout, And drop me, never to stir again, On a shore that is wide, for the tide is out, And the weedy rocks are bare to the rain. But dump or dock, where the path I take Brings up, it\\'s little enough I care, And it\\'s little I\\'d mind the fuss they\\'ll make, Huddled dead in a ditch somewhere.  \"Is something the matter, dear,\" she said,  \"That you sit at your work so silently?\"  \"No, mother, no—\\'twas a knot in my thread.   There goes the kettle—I\\'ll make the tea.\"',\n",
       "        \"The Cosmic Captain and the Victorian Countess\\n\\nFrom: Captain Valentina Zaria (space captain)\\n\\nTo: The Honorable Francesca Worthington (Victorian aristocrat)\\n\\nDate: 2243.04.12\\n\\nSubject: A Bridge Between Galaxies\\n\\nMy dear Francesca, I know our worlds are lighters years apart, but the stars always manage to bring us closer. In the vastness of space, where the cosmic canvas stretches endlessly, I find solace in the thought of a kindred spirit watching from across time and space.\\n\\nI've heard tales of your grand estate and the elegance that radiates from within its hallowed halls. Sadly, the only glimpse I've of your world is through the lens of a stargazing telescope, but I imagine the exquisite gardens and the intoxicating scent of lavender that must fill your air.\\n\\nIt's a lonely existence I lead, one punctuated by the roar of engines and the sting of the vacuum. Yet, the thought of a letter from you,\"],\n",
       "       [\"Date: Mon, 26 Nov 2001 09:21:40 -0800 (PST)\\nFrom: ndrgroup@att.net\\nTo: john.hodge@enron.com\\nSubject: NDR Energy Group request for quote 12/01\\nBody: \\nJohn:\\nIncluded is NDR Energy Group's requst for quote for\\nDecember 2001 NG flow.  You can contact me at\\n301-516-1636 or by reply e-mail with your responce.\\nThanks,\\nRickey\\n - The NDR Energy Group NG  for DEC 01 request-KeySpan.doc \",\n",
       "        'Summary:\\n\\nThis email message provides a quote request from the NDR Energy Group for December 2001 natural gas flow to John Hodge at Enron.\\n\\nKey Points:\\n\\n Date: Monday, November 26, 200'],\n",
       "       [\"I honestly don't understand twilight at all this is the 3rd one I'm watching now\",\n",
       "        'The soft glow of the monitor cast long, cascading shadows across the sleek,'],\n",
       "       ['The right mattress will be able to bend and flex, while still maintaining support and structural integrity. Adjustable beds can generally be used with four kinds of mattresses: memory foam, latex foam, traditional innerspring, or air beds. Letâ\\x80\\x99s take a look at which of these options perform best and why. Advanced foam mattresses offer the best range of features for use with adjustable bed bases.',\n",
       "        'The text describes the ideal characteristics of a mattress to be used with an adjustable bed. It also mentions the four types of mattresses that are commonly used with adjustable beds.\\n\\nKey points:\\n\\n Flexibility and support: The right mattress should be able to bend and flex without compromising support and structural integrity.'],\n",
       "       ['Every day. At the University at Buffalo, our talented students receive an exceptional education at a great value. Working closely with renowned faculty who are deeply committed to student success, UB undergraduates use their discoveries to change the world for the better.',\n",
       "        \"Sun's Journal Entry – July 2023\\n\\nI cast my golden gaze upon the jewel of Earth, its vibrant canvas splashed with life and color. From the towering skyscrapers of New York to the serene temples of Angkor Wat, humanity's achievements awe me. The countless faces that adorn Earth's surface represent the interconnectedness of all living beings. As I witness the laughter of children, the determination of students, and the compassion of caregivers, I am filled with admiration for the potential that resides within each human heart. May my radiance illuminate the path of progress and prosperity.\\n\\nMoon's Journal Entry\"],\n",
       "       ['Tracking tools. Grab your mobile to track your food, weight and exercise using our app. Find the ProPoints values for foods using the calculator and make the best choices on the go for weight loss. Itâ\\x80\\x99s like having Weight Watchers in your pocket. Cheat Sheets.',\n",
       "        'Despite the seriousness of the situation, his eyes glimmered with a mischievous spark, hinting at a cunning plot brewing in his cunning mind.'],\n",
       "       ['Pre-kindergarten provides learning to children who are 4 years old on or before September 1. Pre-kindergarten for three-year-olds provides learning to children who are 3 on or before September 1. Most programs are 3 hours but extended day is offered in some schools.',\n",
       "        \"The text describes the pre-kindergarten program at a school, focusing on the age group and duration of the program, as well as a particular aspect of the program's offerings. It provides clear information about the age group and program duration, emphasizing that pre-kindergarten provides learning for children aged 4 and below and pre-kindergarten for three-year-olds provides learning for children aged 3 and below. It also mentions the typical duration of the program and the availability of extended day options. Finally, the text includes a quote highlighting the program's focus on artistic creativity and masterpiece creation.\"],\n",
       "       ['The report generated by the IPython notebook described in this post (or this Python script) can be downloaded here.\\n\\nGenerating reports or dashboards at your company? Consider Plotly Enterprise – fully secure, on-premise instances of Plotly.\\n\\nPlotly generates rich, interactive graphs using d3.js. You can easily create and embed these graphs into HTML reports to share with your team using a well-known data science language, like Python, MATLAB, or R. This post shows you how using Python and Pandas.\\n\\nIf you’re new to Pandas, we recommend these free, online tutorials:\\n\\nLearn Pandas collection by Hernan Rojas.\\n\\nPandas Cookbook collection by Julia Evans.\\n\\nOpen this IPython notebook to follow along with the steps below.\\n\\nstep 1: create the plotly graphs you want to embed\\n\\nYou can embed any Plotly graph into an HTML report as an iframe. The syntax for embedding is described here.\\n\\nWe recommend generating the graphs and report containing them in the same Python script, as in this IPython notebook. This way, you can automatically generate new reports with the latest data, optionally using a task scheduler like cron.\\n\\nYou can get started with the Plotly Python client in under 5 minutes – see here for a walk-through.\\n\\nSTEP 2: Write a script that creates an html report\\n\\nThe last section of the IPython notebook (or this Python script) creates this HTML document as a string, then writes it to a file.\\n\\nWe recommend the css libraries Bootstrap and Skeleton for quick, clean styling of HTML reports.\\n\\nQuestions? Suggestions? Reach us through StackOverflow, Twitter, or feedback[at]plot[dot]ly.',\n",
       "        'The Plotly Python Show: A Parody in the Big Apple\\n\\nReformed Text:\\n\\n\"Hey, city slickers, wanna generate slick reports like the ones they\\'re slingin\\' at Wall Street? Ditch the Excel and hop on the Python bandwagon.\\n\\nThis IPython notebook is your ticket to generating rich, interactive graphs like a boss. You can easily create and embed these graphs into HTML reports using Python, like a boss.\\n\\nNo time to learn Python? No problem, my friend. There are plenty of free online tutorials to get you started. Check out Learn Pandas collection by Hernan Rojas or Pandas Cookbook collection by Julia Evans.\\n\\nOnce you\\'re a Python master, follow these steps:\\n\\nStep 1: Create the plotly graphs you want to embed. You can embed any Plotly graph into an HTML report as an iframe.\\n\\nStep 2: Write a script that creates an HTML report. The last section of the IPython notebook (or this Python script) creates this HTML document as a string, then writes it to a file.\\n\\nWe recommend the css libraries Bootstrap and Skeleton for quick, clean styling of HTML reports.\\n\\nGot questions? Suggestions? Reach us through StackOverflow, Twitter, or feedback[at]plot[dot]ly.\\n\\nSo, what are you waiting for? Start generating reports like a king (or queen) today! And don\\'t forget to check out Plotly Enterprise for the ultimate reporting experience.\"'],\n",
       "       [\" A few months back, I came across a post about the fascinating wildlife in Madagascar while browsing through Reddit's r/EarthPorn subreddit – yes, my niche interest lies in admiring beautiful landscapes! One image showcased a breathtaking view of Tsingy de Bemaraha National Park, and it sparked my curiosity about how such a unique landscape could exist.\\n\\nI started reading more about Madagascar's geographical history and discovered that its separation from Africa around 88 million years ago played a significant role in shaping the island's one-of-a-kind ecosystems. With no large mammalian predators sharing the land until human arrival, many interesting animals evolved there, like the peculiar lemurs and carnivorous fossas. Around 90% of the plants and animals living in Madagascar can only be found on this incredible island.\\n\\nAs I read further, I stumbled upon something unusual. Some redditors were discussing the theft of Malagasy chameleons as part of the exotic pet trade, particularly the rare Parson's Chameleon (Calumma parsonii). It struck me then; even though I loved learning about these magnificent creatures online, I never truly considered their potential exploitation due to growing demand. That day marked an unexpected plot twist in my journey as a passive enthusiast.\\n\\nFeeling troubled, I began researching conservation efforts surrounding these precious beings. Fortunately, organizations like Madagascar Fauna Group and Durrell Wildlife Conservation Trust work tirelessly to protect them. But they need our help too. My eyes opened wide at seeing so many opportunities where people just like me could contribute—from donating money to volunteering time to spreading awareness.\\n\\nThis experience made me realize we all play a vital part in preserving nature. Our actions matter, whether it's appreciating stunning vistas virtually or actively contributing towards protecting fragile ecosystems. After all, isn't finding common ground among strangers what makes communities thrive? In this case, it was discovering the beauty of Madagascar together and deciding to take action against threats facing its amazing biodiversity. So here I am now, doing my bit to share knowledge and support initiatives working to conserve Madagascar's rich natural heritage.\",\n",
       "        \"In the heart of the enigmatic island of Madagascar, a tale unfolds, revealing the transformative power of nature and the interconnectedness of all beings. As a fervent admirer of breathtaking landscapes, the protagonist, a passive enthusiast named Anya, stumbled upon a captivating post on Reddit's r/EarthPorn subreddit that ignited a journey of discovery.\\n\\nOne image resonated profoundly—a breathtaking view of Tsingy de Bemaraha National Park, a testament to the island's surreal geological formations. Intrigued by the uniqueness of this natural marvel, Anya embarked upon a quest to uncover the secrets of Madagascar's captivating ecosystems. She unearthed the historical tale of the island's separation from Africa, a pivotal event that paved the way for the evolution of extraordinary creatures, lemurs and fossas, to flourish.\\n\\nAnya's journey led her to a disturbing revelation—the illicit trade of Malagasy chameleons, including the rare Parson's Chameleon (Calumma parsonii), as exotic pets. Despite her love for these magnificent creatures, she couldn't ignore the plight they faced due to growing demand. This unexpected plot twist transformed her passive admiration into a mission to protect the precious heritage of Madagascar.\\n\\nWith determination etched in her heart, Anya immersed herself in the conservation efforts of organizations like the Madagascar Fauna Group and Durrell Wildlife Conservation Trust. She recognized her ability to contribute, whether it was donating funds or spreading awareness. It is through these collective efforts that the delicate balance of nature could be preserved.\\n\\nAnya's journey taught her that even a passive enthusiast like her has the power to make a difference. It dawned upon her that the beauty of nature is intertwined with our well-being and that our actions, no matter how small, have the ability to ripple beyond our own circles. In the end, she embraced her newfound purpose, sharing her knowledge and lending her support to initiatives working tirelessly to safeguard the cradle of biodiversity that is Madagascar.\\n\\nAnya's tale is a testament to the transformative power of nature's beauty and the interconnectedness of all beings. It teaches us that even passive enthusiasts can become active agents of change, leaving a positive imprint on the world and fostering a sense of shared responsibility towards the preservation of our planet's priceless treasures.\"],\n",
       "       [' In the small town of Harmonyville, the city council was facing a difficult decision regarding the repair of the aging water treatment plant. The mayor, Mr. Thompson, had called an emergency meeting to discuss the issue. Three options were presented to the council members - Option A: Repair the current facility, Option B: Build a new state-of-the-art plant, and Option C: Outsource the water supply to a neighboring town.\\n\\nMayor Thompson opened the discussion: \"Our trusted engineer has provided us with a report outlining the risks associated with each option.\" He then read aloud the following statement:\\n\\n\"Statement: This report provides valuable information for our risk assessments and budgetary decisions.\"\\n\\nHe proceeded to reveal the three possible interpretations of the statement:\\n\\nChoice 1: These reports are incredibly important; however, it is rare for them to be accessible to the general public.\\nChoice 2: Reports like this play a crucial role when evaluating potential risks and financial implications.\\nChoice 3: Honestly, I don\\'t think those kinds of reports are particularly helpful.\\n\\nCouncilwoman Johnson spoke up first: \"I agree wholeheartedly with Choice 2, Mayor. We need to take full advantage of this expert analysis so that we make informed decisions about the future of our town.\" Her affirmation supported Options A and B.\\n\\nOn the contrary, Councilman Brown expressed his skepticism by saying, \"As much as I respect our engineer, I still believe Choice 3 holds some truth—how reliable could these technical documents really be?\" His dismissive attitude leaned more towards outsourcing (Option C).\\n\\nTension filled the room until Mayor Thompson intervened: \"Let\\'s remember why we sought outside help in the first place: due diligence demanded unbiased expertise beyond what we possess internally. Our goal here isn\\'t merely to reach a consensus but to ensure Harmonyville thrives sustainably.\"\\n\\nCommon sense prevailed, prompting further investigation into all three alternatives before reaching any conclusions. By embracing critical thinking rather than relying solely on personal opinions, the city council ensured better stewardship of taxpayer resources while mitigating unnecessary risks for generations to come.',\n",
       "        'Overall:\\n\\nThis prose effectively paints a picture of the decision-making process in Harmonyville, showcasing the importance of unbiased expertise and critical thinking. With a few tweaks and the addition of specific examples and a conclusive statement, the narrative could be even more complete and insightful.'],\n",
       "       ['Another major wave of immigration occurred from around 1815 to 1865. The majority of these newcomers hailed from Northern and Western Europe. Approximately one-third came from Ireland, which experienced a massive famine in the mid-19th century. In the 1840s, almost half of Americaâ\\x80\\x99s immigrants were from Ireland alone.nother major wave of immigration occurred from around 1815 to 1865. The majority of these newcomers hailed from Northern and Western Europe. Approximately one-third came from Ireland, which experienced a massive famine in the mid-19th century. In the 1840s, almost half of Americaâ\\x80\\x99s immigrants were from Ireland alone.',\n",
       "        'Pessimist: \"The mass emigration to the United States during that period was due to the devastating Irish famine of the mid-19th century, which led to a significant decline in the Irish population.\"\\n\\nOptimist: \"Despite the hardships faced by the Irish immigrants during that time, their arrival strengthened the United States with their hard work and determination, contributing to the nation\\'s growth and prosperity.\"'],\n",
       "       ['There are two ways of constructing colors—additive (e.g., RGB) and subtractive (e.g., CMYK). Additive colors are “added” to black, and for them, the answer is simple: you make them “darker” by reducing the amount you’re adding, and when you reach zero you’re at black.\\n\\nFor subtractive colors, the answer is a bit more complex. The bandwidth of light blocked by each of the primary subtractive colors (cyan, magenta, and yellow) is narrower than the bandwidth the corresponding cone cells in your eye are able to respond to—this is necessary in order to create fully-saturated primary colors that trigger a single type of cone without “crossing over” and triggering other cones as well. But this means that there are some frequencies of visible light *between* the primary subtractive colors that aren’t blocked by them and will still be visible no matter how “dark” you make the primaries. (That’s why it’s necessary to add black to cyan, magenta, and yellow for CMYK printing.)\\n\\nAt least, that’s the case if you have a full-spectrum light source. If your light source were only emitting pure red, green, and blue frequencies (like the light from an RGB monitor), then you could indeed make black using fully-saturated subtractive primary colors.',\n",
       "        \"The Color Mixing Caper\\n\\nScene: A trendy coffee shop\\n\\nCharacters:\\n\\n Barry: A barista and color enthusiast\\n Sally: A graphic designer and Barry's friend\\n Sam: A confused customer\\n\\n(The bell chimes as Sam enters the coffee shop)\\n\\nSam: (to Barry) May I have a latte and a slice of... brown stuff?\\n\\nBarry: (with a smile) Sure, Sam. What's a brown stuff?\\n\\nSam: I'm not sure... the menu doesn't have a brown stuff option.\\n\\nBarry: Oh, it's not a food item, Sam. It's a color. Specifically, a subtractive color.\\n\\nSally: (sitting nearby) Huh? What's that supposed to mean?\\n\\nBarry: Let's see if I can explain it to you...\\n\\n(Barry gesticulates wildly)\\n\\nBarry: You know\"],\n",
       "       [\" I wanted to share my personal experience since the legalization of marijuana in our state last year. My husband, John, lost his construction job due to the economic downturn caused by the pandemic. We were struggling to make ends meet and provide for our three kids. I was working two jobs just to keep us afloat, but it wasn't enough.\\n\\nOne day, while scrolling through Facebook, I saw an ad about a local Cannabis dispensary looking for budtenders. I knew nothing about marijuana, but the thought of making a decent wage and having benefits like health insurance and paid time off seemed too good to pass up. So, I applied, and surprisingly, they hired me!\\n\\nJohn was hesitant at first, worried about the stigma attached to working in the cannabis industry. But we both agreed that we needed to do whatever it took to get back on our feet financially. Soon after starting my new job, I realized how much this industry has positively affected our community. Our town has seen a significant increase in tourism, leading to more customers visiting local businesses, including ours.\\n\\nMoreover, the taxes generated from marijuana sales helped fund several school renovation projects and even provided additional resources for mental health services within our district. It felt great knowing that my work contributed to improving the lives of those around me.\\n\\nBut then came the unexpected plot twist. A few months into my new career, I discovered that my own teenage son had started using marijuana recreationally. He admitted he'd been buying it from friends who obtained it illegally because he didn't want to risk getting caught purchasing it from a dispensary with his mom as an employee. This revelation broke my heart.\\n\\nAs someone who works in the industry, I understand the potential benefits of cannabis use for adults. However, seeing my child struggle with it made me question whether legalization was worth the risks. Was I contributing to a problem bigger than helping our family and community?\\n\\nDespite these challenges, I chose to stay in my job and continue advocating for responsible use and age restrictions. Working in the cannabis industry has taught me valuable lessons about compassion, understanding, and resilience. And although there are still struggles along the way, I remain hopeful that my efforts will create a better future for all involved – especially my children.\",\n",
       "        \"The Cannabis Budtender\\n\\nIn the wake of the pandemic's economic devastation, John's construction job vanished like a gust of wind, leaving the family grappling with financial instability and the daunting task of providing for their three kids. Their struggle mirrored countless others who had been thrust into a precarious position, the weight of the world seemingly unbearable.\\n\\nBut fate intervened in the most unexpected way. While scrolling through Facebook one fateful day, Sarah stumbled upon an advertisement for a local Cannabis dispensary seeking budtenders. Knowing nothing about marijuana, she felt an audacious glimmer of opportunity amidst the chaos. Despite John's reservations and the stigma attached to the industry, she applied and to her astonishment, she won the coveted position.\\n\\nThe job presented not only a paycheck but also a sense of purpose. The dispensary became a hub of activity, drawing hordes of customers and infusing the town with a newfound vitality. The taxes generated from marijuana sales trickled down to fund school renovations and provide additional resources for mental health services. It seemed like her work, albeit unconventional, was contributing to a positive ripple effect.\\n\\nHowever, fate took a cruel turn when she discovered that her teenage son, a bright and innocent soul, had succumbed to the allure of marijuana. The heartbreaking revelation shattered her joy and made her question the seemingly harmless nature of the substance. She confronted the jarring reality that her own job might be inadvertently enabling her child's struggles.\\n\\nDespite the challenges, Sarah persevered, refusing to let her personal anguish compromise her professionalism and her ability to advocate for responsible use and age restrictions. She realized that her journey had taught her valuable lessons about compassion, understanding, and resilience. It had shown her the power of empathy and the transformative capacity of second chances and support.\\n\\nThe story of the Cannabis Budtender encapsulates the complexities of a remarkable journey marked by both triumphs and tribulations. It's a tale of resilience, transformation, and the delicate interplay between personal ambition and societal impact.\"],\n",
       "       ['Date: Fri, 4 May 2001 13:25:00 -0700 (PDT)\\nFrom: soblander@carrfut.com\\nTo: soblander@carrfut.com\\nSubject: opec basket of crude as a hot link\\nBody: \\nThe information contained herein is based on sources that we believe to be\\nreliable, but we do not represent that it is accurate or complete.  Nothing\\ncontained herein should be considered as an offer to sell or a solicitation\\nof an offer to buy any financial instruments discussed herein.  Any\\nopinions expressed herein are solely those of the author.  As such, they\\nmay differ in material respects from those of, or expressed or published by\\non behalf of Carr Futures or its officers, directors, employees or\\naffiliates.  ? 2001 Carr Futures\\nThe charts are now available on the web by clicking on the hot link(s)\\ncontained in this email. If for any reason you are unable to receive the\\ncharts via the web, please contact me via email and I will email the charts\\nto you as attachments.\\nOPEC Basket of Crude     http://www.carrfut.com/research/Energy1/opec50.pdf\\nCarr Futures\\n150 S. Wacker Dr., Suite 1500\\nChicago, IL 60606  USA\\nTel:  312-368-6149\\nFax:  312-368-2281\\nsoblander@carrfut.com\\nhttp://www.carrfut.com',\n",
       "        'FADE IN:\\n\\nINT. OFFICE - DAY\\n\\nThe sun shines on a desk. There\\'s a computer with a spreadsheet open. A hand clicks the mouse. The screen displays a PDF document and the text \"OPEC Basket of Crude\" is displayed below the document. A person sits at the desk, looking at the screen. Their name is Soblander and they\\'re working on the computer. A hot link on the email has been clicked. The charts are now available. The person clicks on a few links and the screen changes to display the charts. \\n\\nFADE OUT.'],\n",
       "       [' \\nOne death comes\\r\\nbefore another.\\r\\nBreath and smoke.\\r\\nAnd smoke which puts out breath.\\r\\nAnd silence.\\r\\nBut sometimes only a cigarette\\r\\nhelps you keep your grip. And keeps\\r\\nits promises more quickly, too.\\r\\nBetween yellowed fingers\\r\\nit burns like love becomes ashes\\r\\nlike betrayal. Breath and smoke.\\r\\nThe three fingers of oath curved\\r\\naround the cigarette to\\r\\nnot forswear.\\r\\nGiordano burns on the Campo de Fiori.\\r\\nThe bells of Santa Maria Maggiore\\r\\nare still pealing for the auto-da-fé.\\r\\nBreath and smoke.\\r\\nAnd smoke which puts out breath.\\r\\nAnd to write with\\r\\na burned hand about fire.\\r\\nAnd the borders of the German language\\r\\nare mined with murderous accidents.\\r\\nOne death comes before another.\\r\\n* * *\\r\\nEin Tod kommt\\r\\nvor dem andern.\\r\\nAtem und Rauch.\\r\\nUnd Rauch der Atem löscht.\\r\\nUnd Schweigen.\\r\\nManchmal ist aber eine Zigarette\\r\\nder letzte Halt. Und hält\\r\\nwas sie verspricht auch schneller.\\r\\nZwischen vergilbten Fingern\\r\\nbrennts wie Liebe wird Asche\\r\\nwie Verrat. Atem und Rauch.\\r\\nDie Schwurfinger gekrümmt\\r\\num die Zigarette um\\r\\nnicht abzuschwören.\\r\\nGiordano brennt auf dem Campo de Fiori.\\r\\nDie Glocken von Santa Maria Maggiore\\r\\ngellen noch immer zum Autodafé.\\r\\nAtem und Rauch.\\r\\nUnd Rauch der Atem löscht.\\r\\nUnd mit verbrannter Hand\\r\\nüber das Feuer schreiben.\\r\\nUnd die Grenzen der deutschen Sprache\\r\\nsind mit mörderischen Zufällen vermint.\\r\\nEin Tod kommt dem andern zuvor.',\n",
       "        \"The scent of smoke and ash hangs thick in the air, mingling with the aroma of burning bread and fresh-baked pastries to form a bittersweet symphony of memories. It's the scent of a family recipe, passed down through generations, etched in the hearts of those who cherish its savory comfort and bittersweet sting. This recipe isn't just a culinary creation – it's a legend steeped in love, betrayal, and redemption.\\n\\nThe tale begins with a crackling fireplace and a pot brimming with the essences of tomato and garlic. In the flickering flames, a young woman named Sophia, her hands reddened by the heat of the oven, lovingly kneads the dough, her mind filled with memories of her grandmother's intoxicating aroma and the warm gatherings that surrounded the table piled high with this delicacy.\\n\\nSophia's grandmother, a woman born of fire and grace\"]],\n",
       "      dtype=object)"
      ]
     },
     "execution_count": 25,
     "metadata": {},
     "output_type": "execute_result"
    }
   ],
   "source": [
    "data[['original_text', 'clean_text']].sample(20).values"
   ]
  },
  {
   "cell_type": "code",
   "execution_count": 26,
   "id": "18d3bb4a",
   "metadata": {
    "execution": {
     "iopub.execute_input": "2024-04-06T09:38:29.054589Z",
     "iopub.status.busy": "2024-04-06T09:38:29.054177Z",
     "iopub.status.idle": "2024-04-06T09:38:29.069418Z",
     "shell.execute_reply": "2024-04-06T09:38:29.068220Z"
    },
    "papermill": {
     "duration": 0.028647,
     "end_time": "2024-04-06T09:38:29.071552",
     "exception": false,
     "start_time": "2024-04-06T09:38:29.042905",
     "status": "completed"
    },
    "tags": []
   },
   "outputs": [],
   "source": [
    "data['rewritten_text'] = data['clean_text']"
   ]
  },
  {
   "cell_type": "code",
   "execution_count": 27,
   "id": "84c62ba3",
   "metadata": {
    "execution": {
     "iopub.execute_input": "2024-04-06T09:38:29.092930Z",
     "iopub.status.busy": "2024-04-06T09:38:29.092500Z",
     "iopub.status.idle": "2024-04-06T09:38:29.417369Z",
     "shell.execute_reply": "2024-04-06T09:38:29.416061Z"
    },
    "papermill": {
     "duration": 0.338454,
     "end_time": "2024-04-06T09:38:29.419800",
     "exception": false,
     "start_time": "2024-04-06T09:38:29.081346",
     "status": "completed"
    },
    "tags": []
   },
   "outputs": [],
   "source": [
    "data = data.dropna(subset=['rewrite_prompt']).reset_index(drop=True)"
   ]
  },
  {
   "cell_type": "code",
   "execution_count": 28,
   "id": "a17d18b1",
   "metadata": {
    "execution": {
     "iopub.execute_input": "2024-04-06T09:38:29.441333Z",
     "iopub.status.busy": "2024-04-06T09:38:29.440945Z",
     "iopub.status.idle": "2024-04-06T09:38:29.589914Z",
     "shell.execute_reply": "2024-04-06T09:38:29.588464Z"
    },
    "papermill": {
     "duration": 0.162981,
     "end_time": "2024-04-06T09:38:29.592773",
     "exception": false,
     "start_time": "2024-04-06T09:38:29.429792",
     "status": "completed"
    },
    "tags": []
   },
   "outputs": [],
   "source": [
    "data['rewrite_prompt'] = data['rewrite_prompt'].map(lambda x:x.strip())"
   ]
  },
  {
   "cell_type": "code",
   "execution_count": 29,
   "id": "159030a6",
   "metadata": {
    "execution": {
     "iopub.execute_input": "2024-04-06T09:38:29.614276Z",
     "iopub.status.busy": "2024-04-06T09:38:29.613898Z",
     "iopub.status.idle": "2024-04-06T09:38:40.228521Z",
     "shell.execute_reply": "2024-04-06T09:38:40.227169Z"
    },
    "papermill": {
     "duration": 10.627821,
     "end_time": "2024-04-06T09:38:40.230837",
     "exception": false,
     "start_time": "2024-04-06T09:38:29.603016",
     "status": "completed"
    },
    "tags": []
   },
   "outputs": [],
   "source": [
    "data[['original_text', 'rewrite_prompt', 'rewritten_text',]].to_parquet('train_clean.parquet')"
   ]
  },
  {
   "cell_type": "code",
   "execution_count": 30,
   "id": "491ec62c",
   "metadata": {
    "execution": {
     "iopub.execute_input": "2024-04-06T09:38:40.253263Z",
     "iopub.status.busy": "2024-04-06T09:38:40.252333Z",
     "iopub.status.idle": "2024-04-06T09:38:40.257289Z",
     "shell.execute_reply": "2024-04-06T09:38:40.256243Z"
    },
    "papermill": {
     "duration": 0.018643,
     "end_time": "2024-04-06T09:38:40.259445",
     "exception": false,
     "start_time": "2024-04-06T09:38:40.240802",
     "status": "completed"
    },
    "tags": []
   },
   "outputs": [],
   "source": [
    "#data[['original_text', 'rewrite_prompt', 'rewritten_text',]].to_csv('train_clean.csv', index=False)"
   ]
  },
  {
   "cell_type": "code",
   "execution_count": 31,
   "id": "ba6cdcc6",
   "metadata": {
    "execution": {
     "iopub.execute_input": "2024-04-06T09:38:40.281039Z",
     "iopub.status.busy": "2024-04-06T09:38:40.280388Z",
     "iopub.status.idle": "2024-04-06T09:38:40.289091Z",
     "shell.execute_reply": "2024-04-06T09:38:40.287906Z"
    },
    "papermill": {
     "duration": 0.021817,
     "end_time": "2024-04-06T09:38:40.291124",
     "exception": false,
     "start_time": "2024-04-06T09:38:40.269307",
     "status": "completed"
    },
    "tags": []
   },
   "outputs": [
    {
     "data": {
      "text/plain": [
       "0         The greater New Orleans area--Jefferson, Orlea...\n",
       "1         Your dryer can do more than what you think it ...\n",
       "2         ‘Notorious B.I.G.’ Name and Likeness Rights So...\n",
       "3         my acronym      J     Joyful       I     Influ...\n",
       "4         Date: Wed, 19 Jul 2000 06:15:00 -0700 (PDT)\\nF...\n",
       "                                ...                        \n",
       "421817    Dick Marlow, a British agent, has parachuted i...\n",
       "421818    India is plagued with kidnappings of young chi...\n",
       "421819    The movie is about two high school dropouts, M...\n",
       "421820    The film follows the life of three former stud...\n",
       "421821    Jhumroo, a tribal, falls in love with Anjana, ...\n",
       "Name: original_text, Length: 421822, dtype: object"
      ]
     },
     "execution_count": 31,
     "metadata": {},
     "output_type": "execute_result"
    }
   ],
   "source": [
    "data['original_text']"
   ]
  },
  {
   "cell_type": "code",
   "execution_count": 32,
   "id": "0424e9e1",
   "metadata": {
    "execution": {
     "iopub.execute_input": "2024-04-06T09:38:40.314058Z",
     "iopub.status.busy": "2024-04-06T09:38:40.313661Z",
     "iopub.status.idle": "2024-04-06T09:38:40.532114Z",
     "shell.execute_reply": "2024-04-06T09:38:40.530903Z"
    },
    "papermill": {
     "duration": 0.233466,
     "end_time": "2024-04-06T09:38:40.534579",
     "exception": false,
     "start_time": "2024-04-06T09:38:40.301113",
     "status": "completed"
    },
    "tags": []
   },
   "outputs": [
    {
     "data": {
      "text/plain": [
       "149856"
      ]
     },
     "execution_count": 32,
     "metadata": {},
     "output_type": "execute_result"
    }
   ],
   "source": [
    "data['rewrite_prompt'].nunique()"
   ]
  },
  {
   "cell_type": "code",
   "execution_count": null,
   "id": "b75dce85",
   "metadata": {
    "papermill": {
     "duration": 0.00991,
     "end_time": "2024-04-06T09:38:40.555266",
     "exception": false,
     "start_time": "2024-04-06T09:38:40.545356",
     "status": "completed"
    },
    "tags": []
   },
   "outputs": [],
   "source": []
  },
  {
   "cell_type": "code",
   "execution_count": null,
   "id": "cacdc7f4",
   "metadata": {
    "papermill": {
     "duration": 0.010542,
     "end_time": "2024-04-06T09:38:40.575930",
     "exception": false,
     "start_time": "2024-04-06T09:38:40.565388",
     "status": "completed"
    },
    "tags": []
   },
   "outputs": [],
   "source": []
  }
 ],
 "metadata": {
  "kaggle": {
   "accelerator": "none",
   "dataSources": [
    {
     "databundleVersionId": 8148005,
     "datasetId": 4626163,
     "sourceId": 8034858,
     "sourceType": "datasetVersion"
    },
    {
     "databundleVersionId": 7813631,
     "datasetId": 4505324,
     "sourceId": 7714580,
     "sourceType": "datasetVersion"
    },
    {
     "sourceId": 170559007,
     "sourceType": "kernelVersion"
    }
   ],
   "dockerImageVersionId": 30664,
   "isGpuEnabled": false,
   "isInternetEnabled": true,
   "language": "python",
   "sourceType": "notebook"
  },
  "kernelspec": {
   "display_name": "Python 3",
   "language": "python",
   "name": "python3"
  },
  "language_info": {
   "codemirror_mode": {
    "name": "ipython",
    "version": 3
   },
   "file_extension": ".py",
   "mimetype": "text/x-python",
   "name": "python",
   "nbconvert_exporter": "python",
   "pygments_lexer": "ipython3",
   "version": "3.10.13"
  },
  "papermill": {
   "default_parameters": {},
   "duration": 204.959807,
   "end_time": "2024-04-06T09:38:41.608859",
   "environment_variables": {},
   "exception": null,
   "input_path": "__notebook__.ipynb",
   "output_path": "__notebook__.ipynb",
   "parameters": {},
   "start_time": "2024-04-06T09:35:16.649052",
   "version": "2.5.0"
  },
  "widgets": {
   "application/vnd.jupyter.widget-state+json": {
    "state": {
     "13a20a234e8b4e98a4a9ddaa3f6ee070": {
      "model_module": "@jupyter-widgets/base",
      "model_module_version": "1.2.0",
      "model_name": "LayoutModel",
      "state": {
       "_model_module": "@jupyter-widgets/base",
       "_model_module_version": "1.2.0",
       "_model_name": "LayoutModel",
       "_view_count": null,
       "_view_module": "@jupyter-widgets/base",
       "_view_module_version": "1.2.0",
       "_view_name": "LayoutView",
       "align_content": null,
       "align_items": null,
       "align_self": null,
       "border": null,
       "bottom": null,
       "display": null,
       "flex": null,
       "flex_flow": null,
       "grid_area": null,
       "grid_auto_columns": null,
       "grid_auto_flow": null,
       "grid_auto_rows": null,
       "grid_column": null,
       "grid_gap": null,
       "grid_row": null,
       "grid_template_areas": null,
       "grid_template_columns": null,
       "grid_template_rows": null,
       "height": null,
       "justify_content": null,
       "justify_items": null,
       "left": null,
       "margin": null,
       "max_height": null,
       "max_width": null,
       "min_height": null,
       "min_width": null,
       "object_fit": null,
       "object_position": null,
       "order": null,
       "overflow": null,
       "overflow_x": null,
       "overflow_y": null,
       "padding": null,
       "right": null,
       "top": null,
       "visibility": null,
       "width": null
      }
     },
     "17e996532f704b72a00ab92e829e3f5d": {
      "model_module": "@jupyter-widgets/controls",
      "model_module_version": "1.5.0",
      "model_name": "FloatProgressModel",
      "state": {
       "_dom_classes": [],
       "_model_module": "@jupyter-widgets/controls",
       "_model_module_version": "1.5.0",
       "_model_name": "FloatProgressModel",
       "_view_count": null,
       "_view_module": "@jupyter-widgets/controls",
       "_view_module_version": "1.5.0",
       "_view_name": "ProgressView",
       "bar_style": "success",
       "description": "",
       "description_tooltip": null,
       "layout": "IPY_MODEL_13a20a234e8b4e98a4a9ddaa3f6ee070",
       "max": 531565.0,
       "min": 0.0,
       "orientation": "horizontal",
       "style": "IPY_MODEL_6a7c8d8ad1044eeba2d3a3007df39764",
       "value": 531565.0
      }
     },
     "2a506f88a4b9461e87e3f6f6c2b0dfa4": {
      "model_module": "@jupyter-widgets/controls",
      "model_module_version": "1.5.0",
      "model_name": "DescriptionStyleModel",
      "state": {
       "_model_module": "@jupyter-widgets/controls",
       "_model_module_version": "1.5.0",
       "_model_name": "DescriptionStyleModel",
       "_view_count": null,
       "_view_module": "@jupyter-widgets/base",
       "_view_module_version": "1.2.0",
       "_view_name": "StyleView",
       "description_width": ""
      }
     },
     "469f50df9793490eb20fb779e03f588c": {
      "model_module": "@jupyter-widgets/base",
      "model_module_version": "1.2.0",
      "model_name": "LayoutModel",
      "state": {
       "_model_module": "@jupyter-widgets/base",
       "_model_module_version": "1.2.0",
       "_model_name": "LayoutModel",
       "_view_count": null,
       "_view_module": "@jupyter-widgets/base",
       "_view_module_version": "1.2.0",
       "_view_name": "LayoutView",
       "align_content": null,
       "align_items": null,
       "align_self": null,
       "border": null,
       "bottom": null,
       "display": null,
       "flex": null,
       "flex_flow": null,
       "grid_area": null,
       "grid_auto_columns": null,
       "grid_auto_flow": null,
       "grid_auto_rows": null,
       "grid_column": null,
       "grid_gap": null,
       "grid_row": null,
       "grid_template_areas": null,
       "grid_template_columns": null,
       "grid_template_rows": null,
       "height": null,
       "justify_content": null,
       "justify_items": null,
       "left": null,
       "margin": null,
       "max_height": null,
       "max_width": null,
       "min_height": null,
       "min_width": null,
       "object_fit": null,
       "object_position": null,
       "order": null,
       "overflow": null,
       "overflow_x": null,
       "overflow_y": null,
       "padding": null,
       "right": null,
       "top": null,
       "visibility": null,
       "width": null
      }
     },
     "4d20c5787f4b4f849b7cee0046dc9f95": {
      "model_module": "@jupyter-widgets/base",
      "model_module_version": "1.2.0",
      "model_name": "LayoutModel",
      "state": {
       "_model_module": "@jupyter-widgets/base",
       "_model_module_version": "1.2.0",
       "_model_name": "LayoutModel",
       "_view_count": null,
       "_view_module": "@jupyter-widgets/base",
       "_view_module_version": "1.2.0",
       "_view_name": "LayoutView",
       "align_content": null,
       "align_items": null,
       "align_self": null,
       "border": null,
       "bottom": null,
       "display": null,
       "flex": null,
       "flex_flow": null,
       "grid_area": null,
       "grid_auto_columns": null,
       "grid_auto_flow": null,
       "grid_auto_rows": null,
       "grid_column": null,
       "grid_gap": null,
       "grid_row": null,
       "grid_template_areas": null,
       "grid_template_columns": null,
       "grid_template_rows": null,
       "height": null,
       "justify_content": null,
       "justify_items": null,
       "left": null,
       "margin": null,
       "max_height": null,
       "max_width": null,
       "min_height": null,
       "min_width": null,
       "object_fit": null,
       "object_position": null,
       "order": null,
       "overflow": null,
       "overflow_x": null,
       "overflow_y": null,
       "padding": null,
       "right": null,
       "top": null,
       "visibility": null,
       "width": null
      }
     },
     "531504e93db94c8ea145aa797a5fadfd": {
      "model_module": "@jupyter-widgets/controls",
      "model_module_version": "1.5.0",
      "model_name": "DescriptionStyleModel",
      "state": {
       "_model_module": "@jupyter-widgets/controls",
       "_model_module_version": "1.5.0",
       "_model_name": "DescriptionStyleModel",
       "_view_count": null,
       "_view_module": "@jupyter-widgets/base",
       "_view_module_version": "1.2.0",
       "_view_name": "StyleView",
       "description_width": ""
      }
     },
     "5ea4d1c7543a4b029fb3301e85257ebd": {
      "model_module": "@jupyter-widgets/controls",
      "model_module_version": "1.5.0",
      "model_name": "HTMLModel",
      "state": {
       "_dom_classes": [],
       "_model_module": "@jupyter-widgets/controls",
       "_model_module_version": "1.5.0",
       "_model_name": "HTMLModel",
       "_view_count": null,
       "_view_module": "@jupyter-widgets/controls",
       "_view_module_version": "1.5.0",
       "_view_name": "HTMLView",
       "description": "",
       "description_tooltip": null,
       "layout": "IPY_MODEL_4d20c5787f4b4f849b7cee0046dc9f95",
       "placeholder": "​",
       "style": "IPY_MODEL_531504e93db94c8ea145aa797a5fadfd",
       "value": "100%"
      }
     },
     "6a7c8d8ad1044eeba2d3a3007df39764": {
      "model_module": "@jupyter-widgets/controls",
      "model_module_version": "1.5.0",
      "model_name": "ProgressStyleModel",
      "state": {
       "_model_module": "@jupyter-widgets/controls",
       "_model_module_version": "1.5.0",
       "_model_name": "ProgressStyleModel",
       "_view_count": null,
       "_view_module": "@jupyter-widgets/base",
       "_view_module_version": "1.2.0",
       "_view_name": "StyleView",
       "bar_color": null,
       "description_width": ""
      }
     },
     "f68f057f2d914147b1e413eddb5393a9": {
      "model_module": "@jupyter-widgets/controls",
      "model_module_version": "1.5.0",
      "model_name": "HTMLModel",
      "state": {
       "_dom_classes": [],
       "_model_module": "@jupyter-widgets/controls",
       "_model_module_version": "1.5.0",
       "_model_name": "HTMLModel",
       "_view_count": null,
       "_view_module": "@jupyter-widgets/controls",
       "_view_module_version": "1.5.0",
       "_view_name": "HTMLView",
       "description": "",
       "description_tooltip": null,
       "layout": "IPY_MODEL_ffac488aa0ba490992a7f95d8ca83c31",
       "placeholder": "​",
       "style": "IPY_MODEL_2a506f88a4b9461e87e3f6f6c2b0dfa4",
       "value": " 531565/531565 [02:24&lt;00:00, 2759.85it/s]"
      }
     },
     "f7db4845b99940f992d439a2d5914877": {
      "model_module": "@jupyter-widgets/controls",
      "model_module_version": "1.5.0",
      "model_name": "HBoxModel",
      "state": {
       "_dom_classes": [],
       "_model_module": "@jupyter-widgets/controls",
       "_model_module_version": "1.5.0",
       "_model_name": "HBoxModel",
       "_view_count": null,
       "_view_module": "@jupyter-widgets/controls",
       "_view_module_version": "1.5.0",
       "_view_name": "HBoxView",
       "box_style": "",
       "children": [
        "IPY_MODEL_5ea4d1c7543a4b029fb3301e85257ebd",
        "IPY_MODEL_17e996532f704b72a00ab92e829e3f5d",
        "IPY_MODEL_f68f057f2d914147b1e413eddb5393a9"
       ],
       "layout": "IPY_MODEL_469f50df9793490eb20fb779e03f588c"
      }
     },
     "ffac488aa0ba490992a7f95d8ca83c31": {
      "model_module": "@jupyter-widgets/base",
      "model_module_version": "1.2.0",
      "model_name": "LayoutModel",
      "state": {
       "_model_module": "@jupyter-widgets/base",
       "_model_module_version": "1.2.0",
       "_model_name": "LayoutModel",
       "_view_count": null,
       "_view_module": "@jupyter-widgets/base",
       "_view_module_version": "1.2.0",
       "_view_name": "LayoutView",
       "align_content": null,
       "align_items": null,
       "align_self": null,
       "border": null,
       "bottom": null,
       "display": null,
       "flex": null,
       "flex_flow": null,
       "grid_area": null,
       "grid_auto_columns": null,
       "grid_auto_flow": null,
       "grid_auto_rows": null,
       "grid_column": null,
       "grid_gap": null,
       "grid_row": null,
       "grid_template_areas": null,
       "grid_template_columns": null,
       "grid_template_rows": null,
       "height": null,
       "justify_content": null,
       "justify_items": null,
       "left": null,
       "margin": null,
       "max_height": null,
       "max_width": null,
       "min_height": null,
       "min_width": null,
       "object_fit": null,
       "object_position": null,
       "order": null,
       "overflow": null,
       "overflow_x": null,
       "overflow_y": null,
       "padding": null,
       "right": null,
       "top": null,
       "visibility": null,
       "width": null
      }
     }
    },
    "version_major": 2,
    "version_minor": 0
   }
  }
 },
 "nbformat": 4,
 "nbformat_minor": 5
}
